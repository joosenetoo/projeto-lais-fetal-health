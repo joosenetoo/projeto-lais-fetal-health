{
 "cells": [
  {
   "cell_type": "markdown",
   "metadata": {},
   "source": [
    "# Problema II - Saúde Fetal\n",
    "\n",
    "Análise exploratória de dados, com aplicação de de um modelo multiclasse que classifique os dados nestes três estados de saúde fetal."
   ]
  },
  {
   "cell_type": "markdown",
   "metadata": {},
   "source": [
    "Desenvolvido por José Trajano Mendes Neto, para a seleção em andamento do Laboratório LAIS, Edital 046"
   ]
  },
  {
   "cell_type": "markdown",
   "metadata": {},
   "source": [
    "A mortalidade fetal é um problema de saúde pública em todo mundo, o que coloca em risco a vida da mulher e/ou do bebê. Este jupyter notebook demonstra a aplicação de várias técnicas de classificação de algoritmos de aprendizagem de máquina para prever o nível de risco da saúde fetal, classificando em três classes: Normal, Suspeito e Patológico a fim de prevenir a mortalidade infantil e materna. "
   ]
  },
  {
   "cell_type": "markdown",
   "metadata": {},
   "source": [
    "O dataset utilizado está disponível no Kaggle (https://www.kaggle.com/andrewmvd/fetal-health-classification) e é composto por 22 atributos(sendo 1 atributo multi-classe) e 2126 amostras (tuplas) de dados. "
   ]
  },
  {
   "cell_type": "markdown",
   "metadata": {},
   "source": [
    "#  1 - Arquitetura dos experimentos"
   ]
  },
  {
   "cell_type": "markdown",
   "metadata": {},
   "source": [
    "Para solucionar o nosso problema, serão aplicadas etapas baseadas nos processos de descobertas de conhecimento em base de dados, com auxilio da linguagem de programação Python e suas bibliotecas, como pandas e sciki-learn. Seguindo as etapas, foram realizados processos como, importação da base de dados, análise da distribuição dos dados no dataset, identificação de valores nulos ou ausentes, análises de <i>outliers</i>, correlação dos dados, normalização do conjunto e aplicação nos modelos de classificação e posteriormente a verificação das métricas de avaliaçao dos modelos.\n",
    "\n",
    "Métodos de Classificação em Machine Learning é o ato de identificar a qual classe um novo objeto analisado pertence baseado no treinamento de dados que determinam características das classes. Algoritmos de classificação são amplamente utilizados na definição o diagnósticos na área da sáude.\n",
    "\n",
    "Para aplicação dos modelos de classificação, foram realizados testes com diferentes tipos de classificadores, utilizando os mesmo parâmetros de configuração de aleatorização da amostra e ajustando cada modelo  de acordo com o tipo escolhido. Os modelos escolhidos para os testes foram algoritmos de aprendizagem supervisionada: <b><i>Support Vector Machine (SVM), K-Nearest Neighbor (KNN), Logistic Regression (LR), Random Forest (RF) e Multilayer Perceptron</b></i>, esses modelos suportam classificação multicasse, que é o nosso objetivo. Os modelos serão avaliados de acordo com a acurácia, métricas de avaliação precision, recall e f1-score, como também pelos valores obtidos pela validação cruzada."
   ]
  },
  {
   "cell_type": "code",
   "execution_count": 1,
   "metadata": {},
   "outputs": [],
   "source": [
    "import pandas as pd\n",
    "import matplotlib.pyplot as plt\n",
    "import seaborn as sns\n",
    "from sklearn.preprocessing import StandardScaler\n",
    "from sklearn.model_selection import train_test_split\n",
    "from sklearn import metrics\n",
    "from sklearn.metrics import classification_report,confusion_matrix\n",
    "from sklearn.model_selection import cross_val_score\n",
    "from sklearn.model_selection import StratifiedKFold\n",
    "import numpy as np"
   ]
  },
  {
   "cell_type": "code",
   "execution_count": 2,
   "metadata": {},
   "outputs": [],
   "source": [
    "#importar o dataset do kaggle https://www.kaggle.com/andrewmvd/fetal-health-classification\n",
    "fetal_health = pd.read_csv(\"fetal_health.csv\", delimiter=',')"
   ]
  },
  {
   "cell_type": "code",
   "execution_count": 3,
   "metadata": {},
   "outputs": [
    {
     "data": {
      "text/html": [
       "<div>\n",
       "<style scoped>\n",
       "    .dataframe tbody tr th:only-of-type {\n",
       "        vertical-align: middle;\n",
       "    }\n",
       "\n",
       "    .dataframe tbody tr th {\n",
       "        vertical-align: top;\n",
       "    }\n",
       "\n",
       "    .dataframe thead th {\n",
       "        text-align: right;\n",
       "    }\n",
       "</style>\n",
       "<table border=\"1\" class=\"dataframe\">\n",
       "  <thead>\n",
       "    <tr style=\"text-align: right;\">\n",
       "      <th></th>\n",
       "      <th>baseline value</th>\n",
       "      <th>accelerations</th>\n",
       "      <th>fetal_movement</th>\n",
       "      <th>uterine_contractions</th>\n",
       "      <th>light_decelerations</th>\n",
       "      <th>severe_decelerations</th>\n",
       "      <th>prolongued_decelerations</th>\n",
       "      <th>abnormal_short_term_variability</th>\n",
       "      <th>mean_value_of_short_term_variability</th>\n",
       "      <th>percentage_of_time_with_abnormal_long_term_variability</th>\n",
       "      <th>...</th>\n",
       "      <th>histogram_min</th>\n",
       "      <th>histogram_max</th>\n",
       "      <th>histogram_number_of_peaks</th>\n",
       "      <th>histogram_number_of_zeroes</th>\n",
       "      <th>histogram_mode</th>\n",
       "      <th>histogram_mean</th>\n",
       "      <th>histogram_median</th>\n",
       "      <th>histogram_variance</th>\n",
       "      <th>histogram_tendency</th>\n",
       "      <th>fetal_health</th>\n",
       "    </tr>\n",
       "  </thead>\n",
       "  <tbody>\n",
       "    <tr>\n",
       "      <th>0</th>\n",
       "      <td>120.0</td>\n",
       "      <td>0.000</td>\n",
       "      <td>0.0</td>\n",
       "      <td>0.000</td>\n",
       "      <td>0.000</td>\n",
       "      <td>0.0</td>\n",
       "      <td>0.0</td>\n",
       "      <td>73.0</td>\n",
       "      <td>0.5</td>\n",
       "      <td>43.0</td>\n",
       "      <td>...</td>\n",
       "      <td>62.0</td>\n",
       "      <td>126.0</td>\n",
       "      <td>2.0</td>\n",
       "      <td>0.0</td>\n",
       "      <td>120.0</td>\n",
       "      <td>137.0</td>\n",
       "      <td>121.0</td>\n",
       "      <td>73.0</td>\n",
       "      <td>1.0</td>\n",
       "      <td>2.0</td>\n",
       "    </tr>\n",
       "    <tr>\n",
       "      <th>1</th>\n",
       "      <td>132.0</td>\n",
       "      <td>0.006</td>\n",
       "      <td>0.0</td>\n",
       "      <td>0.006</td>\n",
       "      <td>0.003</td>\n",
       "      <td>0.0</td>\n",
       "      <td>0.0</td>\n",
       "      <td>17.0</td>\n",
       "      <td>2.1</td>\n",
       "      <td>0.0</td>\n",
       "      <td>...</td>\n",
       "      <td>68.0</td>\n",
       "      <td>198.0</td>\n",
       "      <td>6.0</td>\n",
       "      <td>1.0</td>\n",
       "      <td>141.0</td>\n",
       "      <td>136.0</td>\n",
       "      <td>140.0</td>\n",
       "      <td>12.0</td>\n",
       "      <td>0.0</td>\n",
       "      <td>1.0</td>\n",
       "    </tr>\n",
       "    <tr>\n",
       "      <th>2</th>\n",
       "      <td>133.0</td>\n",
       "      <td>0.003</td>\n",
       "      <td>0.0</td>\n",
       "      <td>0.008</td>\n",
       "      <td>0.003</td>\n",
       "      <td>0.0</td>\n",
       "      <td>0.0</td>\n",
       "      <td>16.0</td>\n",
       "      <td>2.1</td>\n",
       "      <td>0.0</td>\n",
       "      <td>...</td>\n",
       "      <td>68.0</td>\n",
       "      <td>198.0</td>\n",
       "      <td>5.0</td>\n",
       "      <td>1.0</td>\n",
       "      <td>141.0</td>\n",
       "      <td>135.0</td>\n",
       "      <td>138.0</td>\n",
       "      <td>13.0</td>\n",
       "      <td>0.0</td>\n",
       "      <td>1.0</td>\n",
       "    </tr>\n",
       "    <tr>\n",
       "      <th>3</th>\n",
       "      <td>134.0</td>\n",
       "      <td>0.003</td>\n",
       "      <td>0.0</td>\n",
       "      <td>0.008</td>\n",
       "      <td>0.003</td>\n",
       "      <td>0.0</td>\n",
       "      <td>0.0</td>\n",
       "      <td>16.0</td>\n",
       "      <td>2.4</td>\n",
       "      <td>0.0</td>\n",
       "      <td>...</td>\n",
       "      <td>53.0</td>\n",
       "      <td>170.0</td>\n",
       "      <td>11.0</td>\n",
       "      <td>0.0</td>\n",
       "      <td>137.0</td>\n",
       "      <td>134.0</td>\n",
       "      <td>137.0</td>\n",
       "      <td>13.0</td>\n",
       "      <td>1.0</td>\n",
       "      <td>1.0</td>\n",
       "    </tr>\n",
       "    <tr>\n",
       "      <th>4</th>\n",
       "      <td>132.0</td>\n",
       "      <td>0.007</td>\n",
       "      <td>0.0</td>\n",
       "      <td>0.008</td>\n",
       "      <td>0.000</td>\n",
       "      <td>0.0</td>\n",
       "      <td>0.0</td>\n",
       "      <td>16.0</td>\n",
       "      <td>2.4</td>\n",
       "      <td>0.0</td>\n",
       "      <td>...</td>\n",
       "      <td>53.0</td>\n",
       "      <td>170.0</td>\n",
       "      <td>9.0</td>\n",
       "      <td>0.0</td>\n",
       "      <td>137.0</td>\n",
       "      <td>136.0</td>\n",
       "      <td>138.0</td>\n",
       "      <td>11.0</td>\n",
       "      <td>1.0</td>\n",
       "      <td>1.0</td>\n",
       "    </tr>\n",
       "  </tbody>\n",
       "</table>\n",
       "<p>5 rows × 22 columns</p>\n",
       "</div>"
      ],
      "text/plain": [
       "   baseline value  accelerations  fetal_movement  uterine_contractions  \\\n",
       "0           120.0          0.000             0.0                 0.000   \n",
       "1           132.0          0.006             0.0                 0.006   \n",
       "2           133.0          0.003             0.0                 0.008   \n",
       "3           134.0          0.003             0.0                 0.008   \n",
       "4           132.0          0.007             0.0                 0.008   \n",
       "\n",
       "   light_decelerations  severe_decelerations  prolongued_decelerations  \\\n",
       "0                0.000                   0.0                       0.0   \n",
       "1                0.003                   0.0                       0.0   \n",
       "2                0.003                   0.0                       0.0   \n",
       "3                0.003                   0.0                       0.0   \n",
       "4                0.000                   0.0                       0.0   \n",
       "\n",
       "   abnormal_short_term_variability  mean_value_of_short_term_variability  \\\n",
       "0                             73.0                                   0.5   \n",
       "1                             17.0                                   2.1   \n",
       "2                             16.0                                   2.1   \n",
       "3                             16.0                                   2.4   \n",
       "4                             16.0                                   2.4   \n",
       "\n",
       "   percentage_of_time_with_abnormal_long_term_variability  ...  histogram_min  \\\n",
       "0                                               43.0       ...           62.0   \n",
       "1                                                0.0       ...           68.0   \n",
       "2                                                0.0       ...           68.0   \n",
       "3                                                0.0       ...           53.0   \n",
       "4                                                0.0       ...           53.0   \n",
       "\n",
       "   histogram_max  histogram_number_of_peaks  histogram_number_of_zeroes  \\\n",
       "0          126.0                        2.0                         0.0   \n",
       "1          198.0                        6.0                         1.0   \n",
       "2          198.0                        5.0                         1.0   \n",
       "3          170.0                       11.0                         0.0   \n",
       "4          170.0                        9.0                         0.0   \n",
       "\n",
       "   histogram_mode  histogram_mean  histogram_median  histogram_variance  \\\n",
       "0           120.0           137.0             121.0                73.0   \n",
       "1           141.0           136.0             140.0                12.0   \n",
       "2           141.0           135.0             138.0                13.0   \n",
       "3           137.0           134.0             137.0                13.0   \n",
       "4           137.0           136.0             138.0                11.0   \n",
       "\n",
       "   histogram_tendency  fetal_health  \n",
       "0                 1.0           2.0  \n",
       "1                 0.0           1.0  \n",
       "2                 0.0           1.0  \n",
       "3                 1.0           1.0  \n",
       "4                 1.0           1.0  \n",
       "\n",
       "[5 rows x 22 columns]"
      ]
     },
     "execution_count": 3,
     "metadata": {},
     "output_type": "execute_result"
    }
   ],
   "source": [
    "#exibir o inicio do dataset\n",
    "fetal_health.head()"
   ]
  },
  {
   "cell_type": "markdown",
   "metadata": {},
   "source": [
    "# 2 - Pré-processamento dos dados"
   ]
  },
  {
   "cell_type": "code",
   "execution_count": 4,
   "metadata": {},
   "outputs": [
    {
     "data": {
      "text/plain": [
       "Index(['baseline value', 'accelerations', 'fetal_movement',\n",
       "       'uterine_contractions', 'light_decelerations', 'severe_decelerations',\n",
       "       'prolongued_decelerations', 'abnormal_short_term_variability',\n",
       "       'mean_value_of_short_term_variability',\n",
       "       'percentage_of_time_with_abnormal_long_term_variability',\n",
       "       'mean_value_of_long_term_variability', 'histogram_width',\n",
       "       'histogram_min', 'histogram_max', 'histogram_number_of_peaks',\n",
       "       'histogram_number_of_zeroes', 'histogram_mode', 'histogram_mean',\n",
       "       'histogram_median', 'histogram_variance', 'histogram_tendency',\n",
       "       'fetal_health'],\n",
       "      dtype='object')"
      ]
     },
     "execution_count": 4,
     "metadata": {},
     "output_type": "execute_result"
    }
   ],
   "source": [
    "fetal_health.columns #Verificar os atriutos (colunas) do dataset"
   ]
  },
  {
   "cell_type": "code",
   "execution_count": 5,
   "metadata": {},
   "outputs": [
    {
     "data": {
      "text/html": [
       "<div>\n",
       "<style scoped>\n",
       "    .dataframe tbody tr th:only-of-type {\n",
       "        vertical-align: middle;\n",
       "    }\n",
       "\n",
       "    .dataframe tbody tr th {\n",
       "        vertical-align: top;\n",
       "    }\n",
       "\n",
       "    .dataframe thead th {\n",
       "        text-align: right;\n",
       "    }\n",
       "</style>\n",
       "<table border=\"1\" class=\"dataframe\">\n",
       "  <thead>\n",
       "    <tr style=\"text-align: right;\">\n",
       "      <th></th>\n",
       "      <th>baseline value</th>\n",
       "      <th>accelerations</th>\n",
       "      <th>fetal_movement</th>\n",
       "      <th>uterine_contractions</th>\n",
       "      <th>light_decelerations</th>\n",
       "      <th>severe_decelerations</th>\n",
       "      <th>prolongued_decelerations</th>\n",
       "      <th>abnormal_short_term_variability</th>\n",
       "      <th>mean_value_of_short_term_variability</th>\n",
       "      <th>percentage_of_time_with_abnormal_long_term_variability</th>\n",
       "      <th>...</th>\n",
       "      <th>histogram_min</th>\n",
       "      <th>histogram_max</th>\n",
       "      <th>histogram_number_of_peaks</th>\n",
       "      <th>histogram_number_of_zeroes</th>\n",
       "      <th>histogram_mode</th>\n",
       "      <th>histogram_mean</th>\n",
       "      <th>histogram_median</th>\n",
       "      <th>histogram_variance</th>\n",
       "      <th>histogram_tendency</th>\n",
       "      <th>fetal_health</th>\n",
       "    </tr>\n",
       "  </thead>\n",
       "  <tbody>\n",
       "    <tr>\n",
       "      <th>count</th>\n",
       "      <td>2126.000000</td>\n",
       "      <td>2126.000000</td>\n",
       "      <td>2126.000000</td>\n",
       "      <td>2126.000000</td>\n",
       "      <td>2126.000000</td>\n",
       "      <td>2126.000000</td>\n",
       "      <td>2126.000000</td>\n",
       "      <td>2126.000000</td>\n",
       "      <td>2126.000000</td>\n",
       "      <td>2126.00000</td>\n",
       "      <td>...</td>\n",
       "      <td>2126.000000</td>\n",
       "      <td>2126.000000</td>\n",
       "      <td>2126.000000</td>\n",
       "      <td>2126.000000</td>\n",
       "      <td>2126.000000</td>\n",
       "      <td>2126.000000</td>\n",
       "      <td>2126.000000</td>\n",
       "      <td>2126.000000</td>\n",
       "      <td>2126.000000</td>\n",
       "      <td>2126.000000</td>\n",
       "    </tr>\n",
       "    <tr>\n",
       "      <th>mean</th>\n",
       "      <td>133.303857</td>\n",
       "      <td>0.003178</td>\n",
       "      <td>0.009481</td>\n",
       "      <td>0.004366</td>\n",
       "      <td>0.001889</td>\n",
       "      <td>0.000003</td>\n",
       "      <td>0.000159</td>\n",
       "      <td>46.990122</td>\n",
       "      <td>1.332785</td>\n",
       "      <td>9.84666</td>\n",
       "      <td>...</td>\n",
       "      <td>93.579492</td>\n",
       "      <td>164.025400</td>\n",
       "      <td>4.068203</td>\n",
       "      <td>0.323612</td>\n",
       "      <td>137.452023</td>\n",
       "      <td>134.610536</td>\n",
       "      <td>138.090310</td>\n",
       "      <td>18.808090</td>\n",
       "      <td>0.320320</td>\n",
       "      <td>1.304327</td>\n",
       "    </tr>\n",
       "    <tr>\n",
       "      <th>std</th>\n",
       "      <td>9.840844</td>\n",
       "      <td>0.003866</td>\n",
       "      <td>0.046666</td>\n",
       "      <td>0.002946</td>\n",
       "      <td>0.002960</td>\n",
       "      <td>0.000057</td>\n",
       "      <td>0.000590</td>\n",
       "      <td>17.192814</td>\n",
       "      <td>0.883241</td>\n",
       "      <td>18.39688</td>\n",
       "      <td>...</td>\n",
       "      <td>29.560212</td>\n",
       "      <td>17.944183</td>\n",
       "      <td>2.949386</td>\n",
       "      <td>0.706059</td>\n",
       "      <td>16.381289</td>\n",
       "      <td>15.593596</td>\n",
       "      <td>14.466589</td>\n",
       "      <td>28.977636</td>\n",
       "      <td>0.610829</td>\n",
       "      <td>0.614377</td>\n",
       "    </tr>\n",
       "    <tr>\n",
       "      <th>min</th>\n",
       "      <td>106.000000</td>\n",
       "      <td>0.000000</td>\n",
       "      <td>0.000000</td>\n",
       "      <td>0.000000</td>\n",
       "      <td>0.000000</td>\n",
       "      <td>0.000000</td>\n",
       "      <td>0.000000</td>\n",
       "      <td>12.000000</td>\n",
       "      <td>0.200000</td>\n",
       "      <td>0.00000</td>\n",
       "      <td>...</td>\n",
       "      <td>50.000000</td>\n",
       "      <td>122.000000</td>\n",
       "      <td>0.000000</td>\n",
       "      <td>0.000000</td>\n",
       "      <td>60.000000</td>\n",
       "      <td>73.000000</td>\n",
       "      <td>77.000000</td>\n",
       "      <td>0.000000</td>\n",
       "      <td>-1.000000</td>\n",
       "      <td>1.000000</td>\n",
       "    </tr>\n",
       "    <tr>\n",
       "      <th>25%</th>\n",
       "      <td>126.000000</td>\n",
       "      <td>0.000000</td>\n",
       "      <td>0.000000</td>\n",
       "      <td>0.002000</td>\n",
       "      <td>0.000000</td>\n",
       "      <td>0.000000</td>\n",
       "      <td>0.000000</td>\n",
       "      <td>32.000000</td>\n",
       "      <td>0.700000</td>\n",
       "      <td>0.00000</td>\n",
       "      <td>...</td>\n",
       "      <td>67.000000</td>\n",
       "      <td>152.000000</td>\n",
       "      <td>2.000000</td>\n",
       "      <td>0.000000</td>\n",
       "      <td>129.000000</td>\n",
       "      <td>125.000000</td>\n",
       "      <td>129.000000</td>\n",
       "      <td>2.000000</td>\n",
       "      <td>0.000000</td>\n",
       "      <td>1.000000</td>\n",
       "    </tr>\n",
       "    <tr>\n",
       "      <th>50%</th>\n",
       "      <td>133.000000</td>\n",
       "      <td>0.002000</td>\n",
       "      <td>0.000000</td>\n",
       "      <td>0.004000</td>\n",
       "      <td>0.000000</td>\n",
       "      <td>0.000000</td>\n",
       "      <td>0.000000</td>\n",
       "      <td>49.000000</td>\n",
       "      <td>1.200000</td>\n",
       "      <td>0.00000</td>\n",
       "      <td>...</td>\n",
       "      <td>93.000000</td>\n",
       "      <td>162.000000</td>\n",
       "      <td>3.000000</td>\n",
       "      <td>0.000000</td>\n",
       "      <td>139.000000</td>\n",
       "      <td>136.000000</td>\n",
       "      <td>139.000000</td>\n",
       "      <td>7.000000</td>\n",
       "      <td>0.000000</td>\n",
       "      <td>1.000000</td>\n",
       "    </tr>\n",
       "    <tr>\n",
       "      <th>75%</th>\n",
       "      <td>140.000000</td>\n",
       "      <td>0.006000</td>\n",
       "      <td>0.003000</td>\n",
       "      <td>0.007000</td>\n",
       "      <td>0.003000</td>\n",
       "      <td>0.000000</td>\n",
       "      <td>0.000000</td>\n",
       "      <td>61.000000</td>\n",
       "      <td>1.700000</td>\n",
       "      <td>11.00000</td>\n",
       "      <td>...</td>\n",
       "      <td>120.000000</td>\n",
       "      <td>174.000000</td>\n",
       "      <td>6.000000</td>\n",
       "      <td>0.000000</td>\n",
       "      <td>148.000000</td>\n",
       "      <td>145.000000</td>\n",
       "      <td>148.000000</td>\n",
       "      <td>24.000000</td>\n",
       "      <td>1.000000</td>\n",
       "      <td>1.000000</td>\n",
       "    </tr>\n",
       "    <tr>\n",
       "      <th>max</th>\n",
       "      <td>160.000000</td>\n",
       "      <td>0.019000</td>\n",
       "      <td>0.481000</td>\n",
       "      <td>0.015000</td>\n",
       "      <td>0.015000</td>\n",
       "      <td>0.001000</td>\n",
       "      <td>0.005000</td>\n",
       "      <td>87.000000</td>\n",
       "      <td>7.000000</td>\n",
       "      <td>91.00000</td>\n",
       "      <td>...</td>\n",
       "      <td>159.000000</td>\n",
       "      <td>238.000000</td>\n",
       "      <td>18.000000</td>\n",
       "      <td>10.000000</td>\n",
       "      <td>187.000000</td>\n",
       "      <td>182.000000</td>\n",
       "      <td>186.000000</td>\n",
       "      <td>269.000000</td>\n",
       "      <td>1.000000</td>\n",
       "      <td>3.000000</td>\n",
       "    </tr>\n",
       "  </tbody>\n",
       "</table>\n",
       "<p>8 rows × 22 columns</p>\n",
       "</div>"
      ],
      "text/plain": [
       "       baseline value  accelerations  fetal_movement  uterine_contractions  \\\n",
       "count     2126.000000    2126.000000     2126.000000           2126.000000   \n",
       "mean       133.303857       0.003178        0.009481              0.004366   \n",
       "std          9.840844       0.003866        0.046666              0.002946   \n",
       "min        106.000000       0.000000        0.000000              0.000000   \n",
       "25%        126.000000       0.000000        0.000000              0.002000   \n",
       "50%        133.000000       0.002000        0.000000              0.004000   \n",
       "75%        140.000000       0.006000        0.003000              0.007000   \n",
       "max        160.000000       0.019000        0.481000              0.015000   \n",
       "\n",
       "       light_decelerations  severe_decelerations  prolongued_decelerations  \\\n",
       "count          2126.000000           2126.000000               2126.000000   \n",
       "mean              0.001889              0.000003                  0.000159   \n",
       "std               0.002960              0.000057                  0.000590   \n",
       "min               0.000000              0.000000                  0.000000   \n",
       "25%               0.000000              0.000000                  0.000000   \n",
       "50%               0.000000              0.000000                  0.000000   \n",
       "75%               0.003000              0.000000                  0.000000   \n",
       "max               0.015000              0.001000                  0.005000   \n",
       "\n",
       "       abnormal_short_term_variability  mean_value_of_short_term_variability  \\\n",
       "count                      2126.000000                           2126.000000   \n",
       "mean                         46.990122                              1.332785   \n",
       "std                          17.192814                              0.883241   \n",
       "min                          12.000000                              0.200000   \n",
       "25%                          32.000000                              0.700000   \n",
       "50%                          49.000000                              1.200000   \n",
       "75%                          61.000000                              1.700000   \n",
       "max                          87.000000                              7.000000   \n",
       "\n",
       "       percentage_of_time_with_abnormal_long_term_variability  ...  \\\n",
       "count                                         2126.00000       ...   \n",
       "mean                                             9.84666       ...   \n",
       "std                                             18.39688       ...   \n",
       "min                                              0.00000       ...   \n",
       "25%                                              0.00000       ...   \n",
       "50%                                              0.00000       ...   \n",
       "75%                                             11.00000       ...   \n",
       "max                                             91.00000       ...   \n",
       "\n",
       "       histogram_min  histogram_max  histogram_number_of_peaks  \\\n",
       "count    2126.000000    2126.000000                2126.000000   \n",
       "mean       93.579492     164.025400                   4.068203   \n",
       "std        29.560212      17.944183                   2.949386   \n",
       "min        50.000000     122.000000                   0.000000   \n",
       "25%        67.000000     152.000000                   2.000000   \n",
       "50%        93.000000     162.000000                   3.000000   \n",
       "75%       120.000000     174.000000                   6.000000   \n",
       "max       159.000000     238.000000                  18.000000   \n",
       "\n",
       "       histogram_number_of_zeroes  histogram_mode  histogram_mean  \\\n",
       "count                 2126.000000     2126.000000     2126.000000   \n",
       "mean                     0.323612      137.452023      134.610536   \n",
       "std                      0.706059       16.381289       15.593596   \n",
       "min                      0.000000       60.000000       73.000000   \n",
       "25%                      0.000000      129.000000      125.000000   \n",
       "50%                      0.000000      139.000000      136.000000   \n",
       "75%                      0.000000      148.000000      145.000000   \n",
       "max                     10.000000      187.000000      182.000000   \n",
       "\n",
       "       histogram_median  histogram_variance  histogram_tendency  fetal_health  \n",
       "count       2126.000000         2126.000000         2126.000000   2126.000000  \n",
       "mean         138.090310           18.808090            0.320320      1.304327  \n",
       "std           14.466589           28.977636            0.610829      0.614377  \n",
       "min           77.000000            0.000000           -1.000000      1.000000  \n",
       "25%          129.000000            2.000000            0.000000      1.000000  \n",
       "50%          139.000000            7.000000            0.000000      1.000000  \n",
       "75%          148.000000           24.000000            1.000000      1.000000  \n",
       "max          186.000000          269.000000            1.000000      3.000000  \n",
       "\n",
       "[8 rows x 22 columns]"
      ]
     },
     "execution_count": 5,
     "metadata": {},
     "output_type": "execute_result"
    }
   ],
   "source": [
    "fetal_health.describe() #Análise estatísticas de dados"
   ]
  },
  {
   "cell_type": "code",
   "execution_count": 6,
   "metadata": {},
   "outputs": [
    {
     "data": {
      "text/plain": [
       "(2126, 22)"
      ]
     },
     "execution_count": 6,
     "metadata": {},
     "output_type": "execute_result"
    }
   ],
   "source": [
    "fetal_health.shape #Visualizar tamanho da amostra (2126 amostras com 22 atributos)"
   ]
  },
  {
   "cell_type": "code",
   "execution_count": 7,
   "metadata": {},
   "outputs": [
    {
     "data": {
      "text/plain": [
       "baseline value                                            float64\n",
       "accelerations                                             float64\n",
       "fetal_movement                                            float64\n",
       "uterine_contractions                                      float64\n",
       "light_decelerations                                       float64\n",
       "severe_decelerations                                      float64\n",
       "prolongued_decelerations                                  float64\n",
       "abnormal_short_term_variability                           float64\n",
       "mean_value_of_short_term_variability                      float64\n",
       "percentage_of_time_with_abnormal_long_term_variability    float64\n",
       "mean_value_of_long_term_variability                       float64\n",
       "histogram_width                                           float64\n",
       "histogram_min                                             float64\n",
       "histogram_max                                             float64\n",
       "histogram_number_of_peaks                                 float64\n",
       "histogram_number_of_zeroes                                float64\n",
       "histogram_mode                                            float64\n",
       "histogram_mean                                            float64\n",
       "histogram_median                                          float64\n",
       "histogram_variance                                        float64\n",
       "histogram_tendency                                        float64\n",
       "fetal_health                                              float64\n",
       "dtype: object"
      ]
     },
     "execution_count": 7,
     "metadata": {},
     "output_type": "execute_result"
    }
   ],
   "source": [
    "fetal_health.dtypes #Tipo de dados"
   ]
  },
  {
   "cell_type": "code",
   "execution_count": 8,
   "metadata": {},
   "outputs": [
    {
     "data": {
      "text/plain": [
       "baseline value                                            0\n",
       "accelerations                                             0\n",
       "fetal_movement                                            0\n",
       "uterine_contractions                                      0\n",
       "light_decelerations                                       0\n",
       "severe_decelerations                                      0\n",
       "prolongued_decelerations                                  0\n",
       "abnormal_short_term_variability                           0\n",
       "mean_value_of_short_term_variability                      0\n",
       "percentage_of_time_with_abnormal_long_term_variability    0\n",
       "mean_value_of_long_term_variability                       0\n",
       "histogram_width                                           0\n",
       "histogram_min                                             0\n",
       "histogram_max                                             0\n",
       "histogram_number_of_peaks                                 0\n",
       "histogram_number_of_zeroes                                0\n",
       "histogram_mode                                            0\n",
       "histogram_mean                                            0\n",
       "histogram_median                                          0\n",
       "histogram_variance                                        0\n",
       "histogram_tendency                                        0\n",
       "fetal_health                                              0\n",
       "dtype: int64"
      ]
     },
     "execution_count": 8,
     "metadata": {},
     "output_type": "execute_result"
    }
   ],
   "source": [
    "#fetal_health.info(verbose=True), pode-se usar esse que retorna de forma reduzida a avaliação do dataset\n",
    "fetal_health.isnull().sum() #Verificando se há valores ausentes nas colunas"
   ]
  },
  {
   "cell_type": "code",
   "execution_count": 9,
   "metadata": {},
   "outputs": [
    {
     "data": {
      "text/plain": [
       "baseline value                                            0\n",
       "accelerations                                             0\n",
       "fetal_movement                                            0\n",
       "uterine_contractions                                      0\n",
       "light_decelerations                                       0\n",
       "severe_decelerations                                      0\n",
       "prolongued_decelerations                                  0\n",
       "abnormal_short_term_variability                           0\n",
       "mean_value_of_short_term_variability                      0\n",
       "percentage_of_time_with_abnormal_long_term_variability    0\n",
       "mean_value_of_long_term_variability                       0\n",
       "histogram_width                                           0\n",
       "histogram_min                                             0\n",
       "histogram_max                                             0\n",
       "histogram_number_of_peaks                                 0\n",
       "histogram_number_of_zeroes                                0\n",
       "histogram_mode                                            0\n",
       "histogram_mean                                            0\n",
       "histogram_median                                          0\n",
       "histogram_variance                                        0\n",
       "histogram_tendency                                        0\n",
       "fetal_health                                              0\n",
       "dtype: int64"
      ]
     },
     "execution_count": 9,
     "metadata": {},
     "output_type": "execute_result"
    }
   ],
   "source": [
    "fetal_health.isna().sum() #Verificando se há valores nulos nas colunas"
   ]
  },
  {
   "cell_type": "code",
   "execution_count": 10,
   "metadata": {},
   "outputs": [
    {
     "data": {
      "text/plain": [
       "13"
      ]
     },
     "execution_count": 10,
     "metadata": {},
     "output_type": "execute_result"
    }
   ],
   "source": [
    "fetal_health.duplicated().sum() #Verificar se existem valores duplicados\n",
    "#fetal_health[fetal_health.duplicated() == True]"
   ]
  },
  {
   "cell_type": "markdown",
   "metadata": {},
   "source": [
    "Remover elementos duplicados do dataset, pois não agregam informação ao modelo futuro"
   ]
  },
  {
   "cell_type": "code",
   "execution_count": 11,
   "metadata": {},
   "outputs": [],
   "source": [
    "fetal_health = fetal_health.drop_duplicates()"
   ]
  },
  {
   "cell_type": "markdown",
   "metadata": {},
   "source": [
    "Novo tamanho do dataset, após a exclusão das tuplas duplicadas:"
   ]
  },
  {
   "cell_type": "code",
   "execution_count": 12,
   "metadata": {},
   "outputs": [
    {
     "data": {
      "text/plain": [
       "(2113, 22)"
      ]
     },
     "execution_count": 12,
     "metadata": {},
     "output_type": "execute_result"
    }
   ],
   "source": [
    "fetal_health.shape"
   ]
  },
  {
   "cell_type": "markdown",
   "metadata": {},
   "source": [
    "Após a verificação dos dados, em questão da identificação dos atributos nulos ou ausentes, não foram identificados tais valores. Caso existissem, poderia ser utilizado a função <b>fetal_health.fillna(fetal_health.mean(0))</b> para preencher com a média dos valores, essa estratégia é comumente utilizada para solucionar o problema de atributos faltantes e ou nulos."
   ]
  },
  {
   "cell_type": "markdown",
   "metadata": {},
   "source": [
    "# 2.1 Identificando a porcentagem de outliers no conjunto de dados"
   ]
  },
  {
   "cell_type": "code",
   "execution_count": 13,
   "metadata": {
    "scrolled": false
   },
   "outputs": [
    {
     "name": "stdout",
     "output_type": "stream",
     "text": [
      "Porcentagem de valores outliers conforme desvio padrão:\n",
      "\n",
      "0.0 %    - baseline value\n",
      "1.09 %    - accelerations\n",
      "1.47 %    - fetal_movement\n",
      "0.14 %    - uterine_contractions\n",
      "2.04 %    - light_decelerations\n",
      "0.33 %    - severe_decelerations\n",
      "5.11 %    - prolongued_decelerations\n",
      "0.0 %    - abnormal_short_term_variability\n",
      "1.56 %    - mean_value_of_short_term_variability\n",
      "2.79 %    - percentage_of_time_with_abnormal_long_term_variability\n",
      "1.56 %    - mean_value_of_long_term_variability\n",
      "0.0 %    - histogram_width\n",
      "0.0 %    - histogram_min\n",
      "0.66 %    - histogram_max\n",
      "0.9 %    - histogram_number_of_peaks\n",
      "1.33 %    - histogram_number_of_zeroes\n",
      "1.85 %    - histogram_mode\n",
      "1.23 %    - histogram_mean\n",
      "0.76 %    - histogram_median\n",
      "2.04 %    - histogram_variance\n",
      "0.0 %    - histogram_tendency\n",
      "0.0 %    - fetal_health\n"
     ]
    }
   ],
   "source": [
    "import statistics\n",
    "\n",
    "df = fetal_health\n",
    "\n",
    "print(\"Porcentagem de valores outliers conforme desvio padrão:\\n\")\n",
    "\n",
    "\n",
    "for col in df.columns: \n",
    "\n",
    "    # inicia uma lista vazia onde colocaremos os outliers\n",
    "    outliers = []\n",
    "\n",
    "    # desvio padrão \n",
    "    desv_pad = statistics.stdev(df[col])\n",
    "\n",
    "    # média dos seus dados\n",
    "    media = statistics.mean(df[col])\n",
    "\n",
    "    # coloca o limite que determina se é outlier\n",
    "    limite = desv_pad * 3\n",
    "\n",
    "    limite_inferior = media - limite\n",
    "    limite_superior = media + limite\n",
    "\n",
    "    # Localiza outliers e anexa à nossa lista que iniciamos sem nada\n",
    "    for outlier in df[col]:\n",
    "        if outlier > limite_superior or outlier < limite_inferior:\n",
    "            outliers.append(outlier)\n",
    "\n",
    "    # percentual da coluna que é outlier\n",
    "   \n",
    "    print(round((len(outliers)/len(df[col])*100), 2), \"%    -\", col)"
   ]
  },
  {
   "cell_type": "markdown",
   "metadata": {},
   "source": [
    "Um critério de identificação de outliers amplamente utilizado no meio cientifico é através do desvio padrão, verificando a dispersão que visa identificar o quanto os dados são uniformes. Uma regra comumente aplicada é: se o ponto estiver a mais de 3 desvios padrões da média, é considerado um outlier, com isso, o método acima calcula o desvio padrão para todos os elementos de cada atributo, atribui os limites inferior e superior e compara cada elemento  com os limites."
   ]
  },
  {
   "cell_type": "markdown",
   "metadata": {},
   "source": [
    "Após a aplicação dos cáculos do desvio padrão e limites, e após comparar e contar a quantidade de valores que fojem do padrão, calcula-se a porcetagem de ocorrência desses valores. Conclui-se que de acordo com o desvio padrão, os atributos apresentam baixa ocorrência de outliers, com a presençã máxima de 5,11% no atributo prolongued_decelerations, e inferiores a 3% nos demais."
   ]
  },
  {
   "cell_type": "markdown",
   "metadata": {},
   "source": [
    "Tendo isso em vista, opta-se inicialmente por não modificar esses dados no momento, pois apresentam ocorrência baixa. Mas, faz-se necessário futuramente analisar os valores individualmente, para averiguar caso a caso."
   ]
  },
  {
   "cell_type": "markdown",
   "metadata": {},
   "source": [
    "# 3 - Análise inicial dos Dados"
   ]
  },
  {
   "cell_type": "code",
   "execution_count": 14,
   "metadata": {},
   "outputs": [],
   "source": [
    "#Análise da classe alvo > fetal_health"
   ]
  },
  {
   "cell_type": "code",
   "execution_count": 15,
   "metadata": {},
   "outputs": [
    {
     "data": {
      "text/plain": [
       "count    2113.000000\n",
       "mean        1.303833\n",
       "std         0.614279\n",
       "min         1.000000\n",
       "25%         1.000000\n",
       "50%         1.000000\n",
       "75%         1.000000\n",
       "max         3.000000\n",
       "Name: fetal_health, dtype: float64"
      ]
     },
     "execution_count": 15,
     "metadata": {},
     "output_type": "execute_result"
    }
   ],
   "source": [
    "fetal_health[\"fetal_health\"].describe() #Descrição estatística dos dados"
   ]
  },
  {
   "cell_type": "code",
   "execution_count": 16,
   "metadata": {},
   "outputs": [
    {
     "data": {
      "text/plain": [
       "1.0    1646\n",
       "2.0     292\n",
       "3.0     175\n",
       "Name: fetal_health, dtype: int64"
      ]
     },
     "execution_count": 16,
     "metadata": {},
     "output_type": "execute_result"
    }
   ],
   "source": [
    "fetal_health['fetal_health'].value_counts() \n",
    "#Descrição resumida da classe alvo, identifica-se que é o dataset possui mais ocorrências para a classe 1"
   ]
  },
  {
   "cell_type": "code",
   "execution_count": 17,
   "metadata": {},
   "outputs": [
    {
     "data": {
      "image/png": "[encoded data removed]",
      "text/plain": [
       "<Figure size 360x216 with 1 Axes>"
      ]
     },
     "metadata": {
      "needs_background": "light"
     },
     "output_type": "display_data"
    }
   ],
   "source": [
    "#Visualização da distribuição das classes\n",
    "fetal_health['fetal_health'].value_counts().plot(kind=\"bar\", figsize=(5,3), grid = False, rot=0, color=\"red\")\n",
    "plt.xlabel(\"Classes - fetal_health\")\n",
    "plt.ylabel(\"Quantidade de Amostras\")\n",
    "plt.legend()\n",
    "plt.show()"
   ]
  },
  {
   "cell_type": "code",
   "execution_count": 18,
   "metadata": {},
   "outputs": [
    {
     "data": {
      "text/plain": [
       "1.0    1646\n",
       "2.0     292\n",
       "3.0     175\n",
       "Name: fetal_health, dtype: int64"
      ]
     },
     "execution_count": 18,
     "metadata": {},
     "output_type": "execute_result"
    }
   ],
   "source": [
    "fetal_health['fetal_health'].value_counts() "
   ]
  },
  {
   "cell_type": "code",
   "execution_count": 19,
   "metadata": {},
   "outputs": [
    {
     "data": {
      "image/png": "[encoded data removed]",
      "text/plain": [
       "<Figure size 432x288 with 1 Axes>"
      ]
     },
     "metadata": {},
     "output_type": "display_data"
    }
   ],
   "source": [
    "#Gráfico de proporção entre as classes\n",
    "labels = [\"Normal\", \"Suspect\", \"Pathological\"]\n",
    "\n",
    "normal = (fetal_health['fetal_health'] == 1.0).sum()\n",
    "suspect = (fetal_health['fetal_health'] == 2.0).sum()\n",
    "pathological = (fetal_health['fetal_health'] == 3.0).sum()\n",
    "\n",
    "cores = ['#4169E1', '#1E90FF', '#00BFFF']\n",
    "explode = (0.1, 0, 0)  # somente explode primeiro pedaço\n",
    "\n",
    "plt.pie([normal, suspect, pathological], explode=explode, labels=labels, colors=cores, autopct='%1.1f%%', shadow=True, startangle=90)\n",
    "\n",
    "plt.axis('equal') \n",
    "plt.show()"
   ]
  },
  {
   "cell_type": "code",
   "execution_count": 20,
   "metadata": {},
   "outputs": [
    {
     "data": {
      "image/png": "[encoded data removed]",
      "text/plain": [
       "<Figure size 1080x1080 with 25 Axes>"
      ]
     },
     "metadata": {
      "needs_background": "light"
     },
     "output_type": "display_data"
    }
   ],
   "source": [
    "#Verificar a distribuição dos dados\n",
    "datafh_hist_plot = fetal_health.hist(figsize = (15,15), color = \"#191970\")"
   ]
  },
  {
   "cell_type": "markdown",
   "metadata": {},
   "source": [
    "Pode-se perceber a partir do histograma, como os dados variam, no que diz respeito a faixa de min e max, então, verificado isso, faz-se necessário antes de aplicar ao modelo de predição, realizar a normalização dos dados para definir os dados em uma mesma faixa."
   ]
  },
  {
   "cell_type": "code",
   "execution_count": 21,
   "metadata": {},
   "outputs": [],
   "source": [
    "#Verificar a correlação entre as variáveis e a variável alvo (fetal_health)\n",
    "numeric_corr = fetal_health.corr()\n",
    "\n",
    "n_feature = numeric_corr[\"fetal_health\"].sort_values(ascending=False).head(10).to_frame()\n",
    "\n",
    "cm = sns.light_palette(\"#191970\", as_cmap=True)\n",
    "\n",
    "table = n_feature.style.background_gradient(cmap=cm)"
   ]
  },
  {
   "cell_type": "markdown",
   "metadata": {},
   "source": [
    "O coeficiente de correlação mede a relação linear entre dois pares de atributos nos dados. \n",
    "A correlação requer que cada conjunto de dados seja normalmente distribuído.\n",
    "Mas vale lembrar que, a correlação não indica causalidade entre as variáveis.\n",
    "Logo, verificou-se quais variáveis possuem <b>maior correlação</b> com a <b>variável alvo fetal_health</b>"
   ]
  },
  {
   "cell_type": "code",
   "execution_count": 22,
   "metadata": {},
   "outputs": [
    {
     "data": {
      "text/html": [
       "<style  type=\"text/css\" >\n",
       "    #T_3fb6bff8_4300_11eb_85cf_ace0107a501frow0_col0 {\n",
       "            background-color:  #191970;\n",
       "            color:  #f1f1f1;\n",
       "        }    #T_3fb6bff8_4300_11eb_85cf_ace0107a501frow1_col0 {\n",
       "            background-color:  #8b8bbb;\n",
       "            color:  #000000;\n",
       "        }    #T_3fb6bff8_4300_11eb_85cf_ace0107a501frow2_col0 {\n",
       "            background-color:  #8f8fbe;\n",
       "            color:  #000000;\n",
       "        }    #T_3fb6bff8_4300_11eb_85cf_ace0107a501frow3_col0 {\n",
       "            background-color:  #9a9ac5;\n",
       "            color:  #000000;\n",
       "        }    #T_3fb6bff8_4300_11eb_85cf_ace0107a501frow4_col0 {\n",
       "            background-color:  #c9c9e5;\n",
       "            color:  #000000;\n",
       "        }    #T_3fb6bff8_4300_11eb_85cf_ace0107a501frow5_col0 {\n",
       "            background-color:  #d7d7ee;\n",
       "            color:  #000000;\n",
       "        }    #T_3fb6bff8_4300_11eb_85cf_ace0107a501frow6_col0 {\n",
       "            background-color:  #dbdbf0;\n",
       "            color:  #000000;\n",
       "        }    #T_3fb6bff8_4300_11eb_85cf_ace0107a501frow7_col0 {\n",
       "            background-color:  #e4e4f7;\n",
       "            color:  #000000;\n",
       "        }    #T_3fb6bff8_4300_11eb_85cf_ace0107a501frow8_col0 {\n",
       "            background-color:  #e9e9fa;\n",
       "            color:  #000000;\n",
       "        }    #T_3fb6bff8_4300_11eb_85cf_ace0107a501frow9_col0 {\n",
       "            background-color:  #eaeafa;\n",
       "            color:  #000000;\n",
       "        }</style><table id=\"T_3fb6bff8_4300_11eb_85cf_ace0107a501f\" ><thead>    <tr>        <th class=\"blank level0\" ></th>        <th class=\"col_heading level0 col0\" >fetal_health</th>    </tr></thead><tbody>\n",
       "                <tr>\n",
       "                        <th id=\"T_3fb6bff8_4300_11eb_85cf_ace0107a501flevel0_row0\" class=\"row_heading level0 row0\" >fetal_health</th>\n",
       "                        <td id=\"T_3fb6bff8_4300_11eb_85cf_ace0107a501frow0_col0\" class=\"data row0 col0\" >1.000000</td>\n",
       "            </tr>\n",
       "            <tr>\n",
       "                        <th id=\"T_3fb6bff8_4300_11eb_85cf_ace0107a501flevel0_row1\" class=\"row_heading level0 row1\" >prolongued_decelerations</th>\n",
       "                        <td id=\"T_3fb6bff8_4300_11eb_85cf_ace0107a501frow1_col0\" class=\"data row1 col0\" >0.486752</td>\n",
       "            </tr>\n",
       "            <tr>\n",
       "                        <th id=\"T_3fb6bff8_4300_11eb_85cf_ace0107a501flevel0_row2\" class=\"row_heading level0 row2\" >abnormal_short_term_variability</th>\n",
       "                        <td id=\"T_3fb6bff8_4300_11eb_85cf_ace0107a501frow2_col0\" class=\"data row2 col0\" >0.469671</td>\n",
       "            </tr>\n",
       "            <tr>\n",
       "                        <th id=\"T_3fb6bff8_4300_11eb_85cf_ace0107a501flevel0_row3\" class=\"row_heading level0 row3\" >percentage_of_time_with_abnormal_long_term_variability</th>\n",
       "                        <td id=\"T_3fb6bff8_4300_11eb_85cf_ace0107a501frow3_col0\" class=\"data row3 col0\" >0.421634</td>\n",
       "            </tr>\n",
       "            <tr>\n",
       "                        <th id=\"T_3fb6bff8_4300_11eb_85cf_ace0107a501flevel0_row4\" class=\"row_heading level0 row4\" >histogram_variance</th>\n",
       "                        <td id=\"T_3fb6bff8_4300_11eb_85cf_ace0107a501frow4_col0\" class=\"data row4 col0\" >0.208171</td>\n",
       "            </tr>\n",
       "            <tr>\n",
       "                        <th id=\"T_3fb6bff8_4300_11eb_85cf_ace0107a501flevel0_row5\" class=\"row_heading level0 row5\" >baseline value</th>\n",
       "                        <td id=\"T_3fb6bff8_4300_11eb_85cf_ace0107a501frow5_col0\" class=\"data row5 col0\" >0.146077</td>\n",
       "            </tr>\n",
       "            <tr>\n",
       "                        <th id=\"T_3fb6bff8_4300_11eb_85cf_ace0107a501flevel0_row6\" class=\"row_heading level0 row6\" >severe_decelerations</th>\n",
       "                        <td id=\"T_3fb6bff8_4300_11eb_85cf_ace0107a501frow6_col0\" class=\"data row6 col0\" >0.132408</td>\n",
       "            </tr>\n",
       "            <tr>\n",
       "                        <th id=\"T_3fb6bff8_4300_11eb_85cf_ace0107a501flevel0_row7\" class=\"row_heading level0 row7\" >fetal_movement</th>\n",
       "                        <td id=\"T_3fb6bff8_4300_11eb_85cf_ace0107a501frow7_col0\" class=\"data row7 col0\" >0.088057</td>\n",
       "            </tr>\n",
       "            <tr>\n",
       "                        <th id=\"T_3fb6bff8_4300_11eb_85cf_ace0107a501flevel0_row8\" class=\"row_heading level0 row8\" >histogram_min</th>\n",
       "                        <td id=\"T_3fb6bff8_4300_11eb_85cf_ace0107a501frow8_col0\" class=\"data row8 col0\" >0.063529</td>\n",
       "            </tr>\n",
       "            <tr>\n",
       "                        <th id=\"T_3fb6bff8_4300_11eb_85cf_ace0107a501flevel0_row9\" class=\"row_heading level0 row9\" >light_decelerations</th>\n",
       "                        <td id=\"T_3fb6bff8_4300_11eb_85cf_ace0107a501frow9_col0\" class=\"data row9 col0\" >0.059651</td>\n",
       "            </tr>\n",
       "    </tbody></table>"
      ],
      "text/plain": [
       "<pandas.io.formats.style.Styler at 0x290237a67f0>"
      ]
     },
     "execution_count": 22,
     "metadata": {},
     "output_type": "execute_result"
    }
   ],
   "source": [
    "table"
   ]
  },
  {
   "cell_type": "markdown",
   "metadata": {},
   "source": [
    "Verifica-se, após a aplicação da função <b>.corr()</b> (com parâmetros padrões da biblioteca) no dataset, que existem três caracteristicas que possuem uma maior relação com o atributo alvo em relação as demais: prolongued_decelerations, abnormal_short_term_variability\te percentage_of_time_with_abnormal_long_term_variability. \t"
   ]
  },
  {
   "cell_type": "markdown",
   "metadata": {},
   "source": [
    "# 4 - Normalização dos dados e divisão do dataset"
   ]
  },
  {
   "cell_type": "markdown",
   "metadata": {},
   "source": [
    "Dado o histograma apresentado anteriormente, faz-se necessário a normalização dos dados que serão inseridos no modelo. \n",
    "Vale lembrar que os valores a serem normalizados são os valores que tem poder sobre a variável alvo, no caso todos os atributos, com exceção de \"fetal_health\"."
   ]
  },
  {
   "cell_type": "markdown",
   "metadata": {},
   "source": [
    "A normalização de um dataset é um requisito comum para muitos modelos de aprendizado de máquina. Os modelos podem se comportar mal se os atributos individuais não apresentarem a mesma distribuição padrão (escala). Dependendo do modelo de aprendizado utilizado, é extremamente importante padronizar os dados."
   ]
  },
  {
   "cell_type": "code",
   "execution_count": 23,
   "metadata": {},
   "outputs": [],
   "source": [
    "sc = StandardScaler() #definir o método de normalização dos dados"
   ]
  },
  {
   "cell_type": "markdown",
   "metadata": {},
   "source": [
    "Optou-se em utilizar a função StandardScaler da biblioteca do sklearn, que é um método de padronizar os atributos removendo a média e escalonando para a variação da unidade. A normalização de uma amostra x é calculada: z = ((x - u) / s) onde <b>u</b> é a média das amostras de treinamento, e <b>s</b> é o desvio padrão das amostras de treinamento."
   ]
  },
  {
   "cell_type": "code",
   "execution_count": 24,
   "metadata": {},
   "outputs": [],
   "source": [
    "x_col = fetal_health.drop('fetal_health', axis = 1).columns"
   ]
  },
  {
   "cell_type": "code",
   "execution_count": 25,
   "metadata": {},
   "outputs": [],
   "source": [
    "x = sc.fit_transform(fetal_health.drop([\"fetal_health\"],axis = 1)) #Divisão do dataset, com as variaveis sem o atributo alvo e normalizando\n",
    "y = fetal_health.fetal_health #Atribuição do atributo alvo ao Y"
   ]
  },
  {
   "cell_type": "code",
   "execution_count": 26,
   "metadata": {},
   "outputs": [],
   "source": [
    "x_norm = pd.DataFrame(x, columns = x_col)"
   ]
  },
  {
   "cell_type": "markdown",
   "metadata": {},
   "source": [
    "Dividindo o dataset em treino e teste em > 80/20, 80% para treino e 20% para teste. Dividir aleatoriamente em duas partes, para que elas representem bem o dataset é o método ideal para aplicação em modelos de aprendizado de máquina. "
   ]
  },
  {
   "cell_type": "code",
   "execution_count": 27,
   "metadata": {},
   "outputs": [],
   "source": [
    "x_train, x_test, y_train, y_test = train_test_split(x_norm, y, test_size=0.3, random_state=42)"
   ]
  },
  {
   "cell_type": "markdown",
   "metadata": {},
   "source": [
    "Utilizou-se o parâmetro random_state = 42, por ser um gerador aleatório de números, e é popularmente definido como 0 ou 42."
   ]
  },
  {
   "cell_type": "markdown",
   "metadata": {},
   "source": [
    "# 4.1 - Undersampling e Oversampling"
   ]
  },
  {
   "cell_type": "markdown",
   "metadata": {},
   "source": [
    "Devido ao desbalanceamento das classes identificado anteriormente, foi avaliado a possibilidade de utilizar os métodos de <b>undersampling</b> e <b>oversampling</b>, esta técnicas modificam o conjunto de dados, excluindo-se ou adicionando exemplos da classes para deixar todas as classes com a mesma quantidade de ocorrências. No entanto, essa redução causa perda de informações importantes para um modelo quando utilizado \"undersampling\" e podem ocasionar overfitting quando utilizado o oversampling, deixando o modelo de apredizado sobreajustado.\n",
    "\n",
    "Diante ao número de classes, inicialmente optou-se em não utilizar essas técnicas no modelo, a fim de verificar como os modelos se comportam, e futuramente analisar a necessidade do uso, mas de antemão não é uma técnica que posso definir como essencial para esse problema."
   ]
  },
  {
   "cell_type": "markdown",
   "metadata": {},
   "source": [
    "# 5 - Definição e avaliação dos modelos classificadores"
   ]
  },
  {
   "cell_type": "markdown",
   "metadata": {},
   "source": [
    "Como definido na introdução deste notebook, foram definidos 5 algorimos de classificação, nesta etapa esses algoritmos serão testados e avaliados conforme suas métricas. Esses algoritmos são um métodos populares de aprendizado de máquina para classificação e outras tarefas de aprendizado. \n",
    "\n",
    "Algoritmos de classificação são utilizados quando amostras pertencem a duas ou mais classes e queremos identificar com os dados já rotulados como prever a classe de dados não rotulados. Diante disso, os algoritmos foram selecionados pore serem uns dos mais populares para essa finalidade, e serão aplicados ao nosso problema a fim de comparar qual modelo se comporta melhor ao nosso problema."
   ]
  },
  {
   "cell_type": "markdown",
   "metadata": {},
   "source": [
    "Métricas de avaliação dos modelos:\n",
    "\n",
    "<li>TP - True Positive</li>\n",
    "<li>FP - False Positive</li>\n",
    "<li>FN - False Negative</li>"
   ]
  },
  {
   "cell_type": "markdown",
   "metadata": {},
   "source": [
    "Para avaliar os modelos mais profundamente será utilizado o Relatório de Classificação da biblioteca do sklearn.\n",
    "\n",
    "Relatório inclui precision, recall e F1-score:\n",
    "\n",
    "A <b>Precisão</b> - é intuitivamente a capacidade do classificador de não rotular como positiva uma amostra negativa.<li><b>precision = TP / TP + FP</b></li>\n",
    "\n",
    "<b>Recall (sensibilidade)</b> - é a capacidade do classificador de encontrar todas as amostras positivas. \n",
    "<li><b>recall = TP / TP + FN </b></li>\n",
    "\n",
    "<b>F1-score</b> - é a média ponderada da precisão e do <i>recall</i>. Portanto, essa pontuação leva em consideração os falsos positivos e os falsos negativos. F1 é geralmente é mais útil do que a precisão, quando se tem uma distribuição de classes desigual, que é nosso caso. A precisão funciona melhor se falsos positivos e falsos negativos tiverem custos semelhantes. Caso o custo de falsos positivos e falsos negativos são bastantes diferentes, é melhor verificar para Precisão ou <i>Recall</i>.\n",
    "\n",
    "<li><b>f1-score = 2*(precision) / (recall + precision)</li></b>"
   ]
  },
  {
   "cell_type": "markdown",
   "metadata": {},
   "source": [
    "Nas próximas etapas, os algoritmos serão aplicados e avaliados conforme score e demais métricas. Para o treinamento dos algoritmos será utilizada a função <b>.fit()</b> de cada modelo passando como parâmetro os conjuntos de treinamento <b>x_train</b> e <b>y_train</b>. Alguns modelos foram aplicados utilizando os parâmetros padrão da biblioteca do sklearn."
   ]
  },
  {
   "cell_type": "markdown",
   "metadata": {},
   "source": [
    "Para melhorar o modelo será aplicado o <b>StratifiedKFold</b>, este método embaralha os dados, depois divide os dados de acordo com o n_splits. Após isso, o método ultiliza cada parte como um conjunto de teste. Vale lembrar esse processo apenas embaralha os dados uma vez antes de dividir. Esse método utilizando o StratifiedKFold melhora o treinamento do modelo, define melhor a aleatorização da seleção das amostras."
   ]
  },
  {
   "cell_type": "markdown",
   "metadata": {},
   "source": [
    "Para avaliar o desempenho dos algoritmos uma <b>Matriz de confusão</b> foi gerada para cada, ela serve de suporte para avaliar a qualidade do classificador, pois nela é possível identificar os verdadeiros positivos, verdadeiros negativos, falsos positivos e falsos negativo. Em outras palavras, quão bom o modelo é em prever positivos, sendo positivo entendido como a classe que se queremos prever."
   ]
  },
  {
   "cell_type": "markdown",
   "metadata": {},
   "source": [
    "<b>Cross Validation </b> - A validação cruzada fornece uma maneira de melhorar o desempenho estimado de um modelo de aprendizado de máquina. Esse método visa repetir o procedimento de validação cruzada várias vezes e relatar o resultado médio em todas os testes em todas as execuções. Com isso, espera-se que o resultado médio seja uma estimativa mais precisa do verdadeiro desempenho médio do modelo no conjunto de dados."
   ]
  },
  {
   "cell_type": "markdown",
   "metadata": {},
   "source": [
    "Foi definido como métodos de parada (numero de iteração) dos algoritmos como ilimitado para todos os modelos, exceto o MLP que foi definido para 3000 devido ao poder computacional necessário, conforme a documentação de cada modelo utilizado, essa definição é utilizada para deixar o algoritmo realizar a convergência do resultado de cada modelo."
   ]
  },
  {
   "cell_type": "markdown",
   "metadata": {},
   "source": [
    "# 5.1 - Rodada de teste 1 - SVM"
   ]
  },
  {
   "cell_type": "code",
   "execution_count": 28,
   "metadata": {},
   "outputs": [],
   "source": [
    "from sklearn import svm #importação do modelo"
   ]
  },
  {
   "cell_type": "code",
   "execution_count": 29,
   "metadata": {},
   "outputs": [],
   "source": [
    "clf_svm = svm.SVC() #definição do modelo"
   ]
  },
  {
   "cell_type": "code",
   "execution_count": 109,
   "metadata": {},
   "outputs": [
    {
     "data": {
      "text/plain": [
       "SVC()"
      ]
     },
     "execution_count": 109,
     "metadata": {},
     "output_type": "execute_result"
    }
   ],
   "source": [
    "clf_svm.fit(x_train, y_train)"
   ]
  },
  {
   "cell_type": "code",
   "execution_count": 31,
   "metadata": {},
   "outputs": [
    {
     "data": {
      "text/plain": [
       "0.9305993690851735"
      ]
     },
     "execution_count": 31,
     "metadata": {},
     "output_type": "execute_result"
    }
   ],
   "source": [
    "clf_svm.score(x_test,y_test)"
   ]
  },
  {
   "cell_type": "code",
   "execution_count": 32,
   "metadata": {},
   "outputs": [],
   "source": [
    "y_pred_svm = clf_svm.predict(x_test)"
   ]
  },
  {
   "cell_type": "code",
   "execution_count": 33,
   "metadata": {},
   "outputs": [
    {
     "name": "stdout",
     "output_type": "stream",
     "text": [
      "              precision    recall  f1-score   support\n",
      "\n",
      "         1.0       0.94      0.99      0.96       497\n",
      "         2.0       0.86      0.66      0.74        90\n",
      "         3.0       1.00      0.83      0.91        47\n",
      "\n",
      "    accuracy                           0.93       634\n",
      "   macro avg       0.93      0.83      0.87       634\n",
      "weighted avg       0.93      0.93      0.93       634\n",
      "\n",
      "[[492   5   0]\n",
      " [ 31  59   0]\n",
      " [  3   5  39]]\n"
     ]
    }
   ],
   "source": [
    "#Acurácia do modelo\n",
    "print(classification_report(y_test,y_pred_svm))\n",
    "print(confusion_matrix(y_test,y_pred_svm))"
   ]
  },
  {
   "cell_type": "markdown",
   "metadata": {},
   "source": [
    "Conforme as métricas de avaliação, o modelo se comporta melhor para as classes 1 e 3"
   ]
  },
  {
   "cell_type": "code",
   "execution_count": 34,
   "metadata": {},
   "outputs": [],
   "source": [
    "cv_method = StratifiedKFold(n_splits=3, random_state=42, shuffle=True)"
   ]
  },
  {
   "cell_type": "code",
   "execution_count": 35,
   "metadata": {},
   "outputs": [
    {
     "name": "stdout",
     "output_type": "stream",
     "text": [
      "media =  0.9110231302385557\n",
      "desvio padrão =  0.005775001547367149\n"
     ]
    }
   ],
   "source": [
    "#Validação cruzada\n",
    "scores_svm = cross_val_score(clf_svm,x,y, cv = cv_method)\n",
    "print('media = ', scores_svm.mean())\n",
    "print('desvio padrão = ', scores_svm.std())"
   ]
  },
  {
   "cell_type": "code",
   "execution_count": 36,
   "metadata": {},
   "outputs": [
    {
     "data": {
      "image/png": "[encoded data removed]",
      "text/plain": [
       "<Figure size 360x360 with 2 Axes>"
      ]
     },
     "metadata": {
      "needs_background": "light"
     },
     "output_type": "display_data"
    }
   ],
   "source": [
    "#Matriz de Confusão - visual\n",
    "\n",
    "yprediciton_svm = clf_svm.predict(x_test)\n",
    "ytrue_svm = y_test\n",
    "\n",
    "from sklearn.metrics import confusion_matrix\n",
    "CM = confusion_matrix(ytrue_svm,yprediciton_svm)\n",
    "\n",
    "#CM visualization\n",
    "\n",
    "import seaborn as sns\n",
    "import matplotlib.pyplot as plt\n",
    "\n",
    "f, ax = plt.subplots(figsize=(5,5))\n",
    "sns.heatmap(CM,annot = True, linewidths=0.5,linecolor=\"purple\",fmt=\".0f\",ax=ax)\n",
    "plt.xlabel(\"Predição\")\n",
    "plt.ylabel(\"Real\")\n",
    "plt.show()"
   ]
  },
  {
   "cell_type": "markdown",
   "metadata": {},
   "source": [
    "Verifica-se que a partir da matriz de confusão aplicada ao algoritmo SVM, pode-se perceber que o modelo classifica melhor as classes 1 e 2, a taxa de acerto da classe 2 é baixa em relação as demais classes."
   ]
  },
  {
   "cell_type": "markdown",
   "metadata": {},
   "source": [
    "# 5.2 - Rodada de teste 2 - KNN"
   ]
  },
  {
   "cell_type": "code",
   "execution_count": 37,
   "metadata": {},
   "outputs": [],
   "source": [
    "from sklearn.neighbors import KNeighborsClassifier"
   ]
  },
  {
   "cell_type": "code",
   "execution_count": 38,
   "metadata": {},
   "outputs": [],
   "source": [
    "neigh = KNeighborsClassifier(n_neighbors=3) #por ser um conjunto mais simples, optou-se por definir o numero de vizinhos = 3"
   ]
  },
  {
   "cell_type": "code",
   "execution_count": 108,
   "metadata": {},
   "outputs": [
    {
     "data": {
      "text/plain": [
       "KNeighborsClassifier(n_neighbors=3)"
      ]
     },
     "execution_count": 108,
     "metadata": {},
     "output_type": "execute_result"
    }
   ],
   "source": [
    "neigh.fit(x_train, y_train)"
   ]
  },
  {
   "cell_type": "code",
   "execution_count": 40,
   "metadata": {},
   "outputs": [
    {
     "data": {
      "text/plain": [
       "0.9148264984227129"
      ]
     },
     "execution_count": 40,
     "metadata": {},
     "output_type": "execute_result"
    }
   ],
   "source": [
    "neigh.score(x_test, y_test)"
   ]
  },
  {
   "cell_type": "code",
   "execution_count": 41,
   "metadata": {},
   "outputs": [],
   "source": [
    "y_pred_neigh = neigh.predict(x_test)"
   ]
  },
  {
   "cell_type": "code",
   "execution_count": 42,
   "metadata": {},
   "outputs": [
    {
     "name": "stdout",
     "output_type": "stream",
     "text": [
      "              precision    recall  f1-score   support\n",
      "\n",
      "         1.0       0.94      0.98      0.96       497\n",
      "         2.0       0.79      0.62      0.70        90\n",
      "         3.0       0.83      0.83      0.83        47\n",
      "\n",
      "    accuracy                           0.91       634\n",
      "   macro avg       0.85      0.81      0.83       634\n",
      "weighted avg       0.91      0.91      0.91       634\n",
      "\n",
      "[[485  11   1]\n",
      " [ 27  56   7]\n",
      " [  4   4  39]]\n"
     ]
    }
   ],
   "source": [
    "#Accuracy of the predicted values\n",
    "print(classification_report(y_test,y_pred_neigh))\n",
    "print(confusion_matrix(y_test,y_pred_neigh))"
   ]
  },
  {
   "cell_type": "code",
   "execution_count": 43,
   "metadata": {},
   "outputs": [],
   "source": [
    "cv_method = StratifiedKFold(n_splits=3, random_state=42, shuffle=True)"
   ]
  },
  {
   "cell_type": "code",
   "execution_count": 44,
   "metadata": {},
   "outputs": [
    {
     "name": "stdout",
     "output_type": "stream",
     "text": [
      "media =  0.8973008005587793\n",
      "desvio padrão =  0.006819000309931688\n"
     ]
    }
   ],
   "source": [
    "scores_neigh = cross_val_score(neigh,x,y, cv = cv_method)\n",
    "print('media = ', scores_neigh.mean())\n",
    "print('desvio padrão = ', scores_neigh.std())"
   ]
  },
  {
   "cell_type": "code",
   "execution_count": 45,
   "metadata": {},
   "outputs": [
    {
     "data": {
      "image/png": "[encoded data removed]",
      "text/plain": [
       "<Figure size 360x360 with 2 Axes>"
      ]
     },
     "metadata": {
      "needs_background": "light"
     },
     "output_type": "display_data"
    }
   ],
   "source": [
    "#Matriz de Confusão - visual\n",
    "\n",
    "yprediciton_neigh = neigh.predict(x_test)\n",
    "ytrue_neigh = y_test\n",
    "\n",
    "from sklearn.metrics import confusion_matrix\n",
    "CM = confusion_matrix(ytrue_neigh,yprediciton_neigh)\n",
    "\n",
    "#CM visualization\n",
    "\n",
    "import seaborn as sns\n",
    "import matplotlib.pyplot as plt\n",
    "\n",
    "f, ax = plt.subplots(figsize=(5,5))\n",
    "sns.heatmap(CM,annot = True, linewidths=0.5,linecolor=\"purple\",fmt=\".0f\",ax=ax)\n",
    "plt.xlabel(\"Predição\")\n",
    "plt.ylabel(\"Real\")\n",
    "plt.show()"
   ]
  },
  {
   "cell_type": "markdown",
   "metadata": {},
   "source": [
    "# 5.3 - Rodada de teste 3 - Logistic Regression"
   ]
  },
  {
   "cell_type": "code",
   "execution_count": 46,
   "metadata": {},
   "outputs": [],
   "source": [
    "from sklearn.linear_model import LogisticRegression"
   ]
  },
  {
   "cell_type": "code",
   "execution_count": 47,
   "metadata": {},
   "outputs": [],
   "source": [
    "lr = LogisticRegression(random_state=0)"
   ]
  },
  {
   "cell_type": "code",
   "execution_count": 107,
   "metadata": {},
   "outputs": [
    {
     "data": {
      "text/plain": [
       "LogisticRegression(random_state=0)"
      ]
     },
     "execution_count": 107,
     "metadata": {},
     "output_type": "execute_result"
    }
   ],
   "source": [
    "lr.fit(x_train, y_train)"
   ]
  },
  {
   "cell_type": "code",
   "execution_count": 49,
   "metadata": {},
   "outputs": [
    {
     "data": {
      "text/plain": [
       "0.9148264984227129"
      ]
     },
     "execution_count": 49,
     "metadata": {},
     "output_type": "execute_result"
    }
   ],
   "source": [
    "lr.score(x_test, y_test)"
   ]
  },
  {
   "cell_type": "code",
   "execution_count": 50,
   "metadata": {},
   "outputs": [],
   "source": [
    "y_pred_lr = lr.predict(x_test)"
   ]
  },
  {
   "cell_type": "code",
   "execution_count": 51,
   "metadata": {},
   "outputs": [
    {
     "name": "stdout",
     "output_type": "stream",
     "text": [
      "              precision    recall  f1-score   support\n",
      "\n",
      "         1.0       0.94      0.97      0.96       497\n",
      "         2.0       0.77      0.64      0.70        90\n",
      "         3.0       0.83      0.81      0.82        47\n",
      "\n",
      "    accuracy                           0.91       634\n",
      "   macro avg       0.85      0.81      0.83       634\n",
      "weighted avg       0.91      0.91      0.91       634\n",
      "\n",
      "[[484  11   2]\n",
      " [ 26  58   6]\n",
      " [  3   6  38]]\n"
     ]
    }
   ],
   "source": [
    "#Accuracy of the predicted values\n",
    "print(classification_report(y_test,y_pred_lr))\n",
    "print(confusion_matrix(y_test,y_pred_lr))"
   ]
  },
  {
   "cell_type": "code",
   "execution_count": 52,
   "metadata": {},
   "outputs": [],
   "source": [
    "cv_method = StratifiedKFold(n_splits=3, random_state=42, shuffle=True)"
   ]
  },
  {
   "cell_type": "code",
   "execution_count": 53,
   "metadata": {},
   "outputs": [
    {
     "name": "stdout",
     "output_type": "stream",
     "text": [
      "media =  0.8939890930582419\n",
      "desvio padrão =  0.003557188443358507\n"
     ]
    }
   ],
   "source": [
    "scores_lr = cross_val_score(lr,x,y, cv = cv_method)\n",
    "print('media = ', scores_lr.mean())\n",
    "print('desvio padrão = ', scores_lr.std())"
   ]
  },
  {
   "cell_type": "code",
   "execution_count": 54,
   "metadata": {},
   "outputs": [
    {
     "data": {
      "image/png": "[encoded data removed]",
      "text/plain": [
       "<Figure size 360x360 with 2 Axes>"
      ]
     },
     "metadata": {
      "needs_background": "light"
     },
     "output_type": "display_data"
    }
   ],
   "source": [
    "#Matriz de Confusão - visual\n",
    "\n",
    "yprediciton_lr = lr.predict(x_test)\n",
    "ytrue_lr = y_test\n",
    "\n",
    "from sklearn.metrics import confusion_matrix\n",
    "CM = confusion_matrix(ytrue_lr,yprediciton_lr)\n",
    "\n",
    "#CM visualization\n",
    "\n",
    "import seaborn as sns\n",
    "import matplotlib.pyplot as plt\n",
    "\n",
    "f, ax = plt.subplots(figsize=(5,5))\n",
    "sns.heatmap(CM,annot = True, linewidths=0.5,linecolor=\"purple\",fmt=\".0f\",ax=ax)\n",
    "plt.xlabel(\"Predição\")\n",
    "plt.ylabel(\"Real\")\n",
    "plt.show()"
   ]
  },
  {
   "cell_type": "markdown",
   "metadata": {},
   "source": [
    "# 5.4 - Rodada de teste 4 - Random Forest"
   ]
  },
  {
   "cell_type": "code",
   "execution_count": 55,
   "metadata": {},
   "outputs": [],
   "source": [
    "from sklearn.ensemble import RandomForestClassifier"
   ]
  },
  {
   "cell_type": "code",
   "execution_count": 56,
   "metadata": {},
   "outputs": [],
   "source": [
    "rf = RandomForestClassifier(max_depth=5, random_state=0) #Definição do modelo, com parâmetro da profundidade da arvore = 5"
   ]
  },
  {
   "cell_type": "code",
   "execution_count": 106,
   "metadata": {},
   "outputs": [
    {
     "data": {
      "text/plain": [
       "RandomForestClassifier(max_depth=5, random_state=0)"
      ]
     },
     "execution_count": 106,
     "metadata": {},
     "output_type": "execute_result"
    }
   ],
   "source": [
    "rf.fit(x_train,y_train)"
   ]
  },
  {
   "cell_type": "code",
   "execution_count": 58,
   "metadata": {},
   "outputs": [
    {
     "data": {
      "text/plain": [
       "0.9274447949526814"
      ]
     },
     "execution_count": 58,
     "metadata": {},
     "output_type": "execute_result"
    }
   ],
   "source": [
    "rf.score(x_test, y_test)"
   ]
  },
  {
   "cell_type": "code",
   "execution_count": 59,
   "metadata": {},
   "outputs": [],
   "source": [
    "y_pred_rf = rf.predict(x_test)"
   ]
  },
  {
   "cell_type": "code",
   "execution_count": 60,
   "metadata": {},
   "outputs": [
    {
     "name": "stdout",
     "output_type": "stream",
     "text": [
      "              precision    recall  f1-score   support\n",
      "\n",
      "         1.0       0.93      0.98      0.96       497\n",
      "         2.0       0.84      0.64      0.73        90\n",
      "         3.0       0.98      0.87      0.92        47\n",
      "\n",
      "    accuracy                           0.93       634\n",
      "   macro avg       0.92      0.83      0.87       634\n",
      "weighted avg       0.92      0.93      0.92       634\n",
      "\n",
      "[[489   7   1]\n",
      " [ 32  58   0]\n",
      " [  2   4  41]]\n"
     ]
    }
   ],
   "source": [
    "#Accuracy of the predicted values\n",
    "print(classification_report(y_test,y_pred_rf))\n",
    "print(confusion_matrix(y_test,y_pred_rf))"
   ]
  },
  {
   "cell_type": "code",
   "execution_count": 61,
   "metadata": {},
   "outputs": [],
   "source": [
    "cv_method = StratifiedKFold(n_splits=3, random_state=42, shuffle=True)"
   ]
  },
  {
   "cell_type": "code",
   "execution_count": 62,
   "metadata": {},
   "outputs": [
    {
     "name": "stdout",
     "output_type": "stream",
     "text": [
      "media =  0.9171770900494306\n",
      "desvio padrão =  0.004116118361498483\n"
     ]
    }
   ],
   "source": [
    "scores_rf = cross_val_score(rf,x,y, cv = cv_method)\n",
    "print('media = ', scores_rf.mean())\n",
    "print('desvio padrão = ', scores_rf.std())"
   ]
  },
  {
   "cell_type": "code",
   "execution_count": 63,
   "metadata": {},
   "outputs": [
    {
     "data": {
      "image/png": "[encoded data removed]",
      "text/plain": [
       "<Figure size 360x360 with 2 Axes>"
      ]
     },
     "metadata": {
      "needs_background": "light"
     },
     "output_type": "display_data"
    }
   ],
   "source": [
    "#Matriz de Confusão - visual\n",
    "\n",
    "yprediciton_rf = rf.predict(x_test)\n",
    "ytrue_rf = y_test\n",
    "\n",
    "from sklearn.metrics import confusion_matrix\n",
    "CM = confusion_matrix(ytrue_rf,yprediciton_rf)\n",
    "\n",
    "#CM visualization\n",
    "\n",
    "import seaborn as sns\n",
    "import matplotlib.pyplot as plt\n",
    "\n",
    "f, ax = plt.subplots(figsize=(5,5))\n",
    "sns.heatmap(CM,annot = True, linewidths=0.5,linecolor=\"purple\",fmt=\".0f\",ax=ax)\n",
    "plt.xlabel(\"Predição\")\n",
    "plt.ylabel(\"Real\")\n",
    "plt.show()"
   ]
  },
  {
   "cell_type": "markdown",
   "metadata": {},
   "source": [
    "# 5.5 - Rodada de teste 5 - MLP"
   ]
  },
  {
   "cell_type": "code",
   "execution_count": 97,
   "metadata": {},
   "outputs": [],
   "source": [
    "from sklearn.neural_network import MLPClassifier"
   ]
  },
  {
   "cell_type": "code",
   "execution_count": 98,
   "metadata": {},
   "outputs": [],
   "source": [
    "clf_mlp = MLPClassifier(random_state=1, max_iter=3000, hidden_layer_sizes=(21,21,21))"
   ]
  },
  {
   "cell_type": "markdown",
   "metadata": {},
   "source": [
    "Foi definido o tamanho dos neurônios como 21 em três camadas iguais, que tem o mesmo número de neurônios que a contagem de recursos no conjunto de dados (21). Conforme o: x_train.shape e x_test.shape"
   ]
  },
  {
   "cell_type": "code",
   "execution_count": 99,
   "metadata": {
    "scrolled": true
   },
   "outputs": [
    {
     "data": {
      "text/plain": [
       "MLPClassifier(hidden_layer_sizes=(21, 21, 21), max_iter=3000, random_state=1)"
      ]
     },
     "execution_count": 99,
     "metadata": {},
     "output_type": "execute_result"
    }
   ],
   "source": [
    "clf_mlp.fit(x_train, y_train)"
   ]
  },
  {
   "cell_type": "code",
   "execution_count": 100,
   "metadata": {},
   "outputs": [
    {
     "data": {
      "text/plain": [
       "0.9369085173501577"
      ]
     },
     "execution_count": 100,
     "metadata": {},
     "output_type": "execute_result"
    }
   ],
   "source": [
    "clf_mlp.score(x_test, y_test)"
   ]
  },
  {
   "cell_type": "code",
   "execution_count": 101,
   "metadata": {},
   "outputs": [],
   "source": [
    "y_pred_mlp = clf_mlp.predict(x_test)"
   ]
  },
  {
   "cell_type": "code",
   "execution_count": 102,
   "metadata": {},
   "outputs": [
    {
     "name": "stdout",
     "output_type": "stream",
     "text": [
      "              precision    recall  f1-score   support\n",
      "\n",
      "         1.0       0.96      0.98      0.97       497\n",
      "         2.0       0.87      0.69      0.77        90\n",
      "         3.0       0.83      0.94      0.88        47\n",
      "\n",
      "    accuracy                           0.94       634\n",
      "   macro avg       0.89      0.87      0.87       634\n",
      "weighted avg       0.94      0.94      0.93       634\n",
      "\n",
      "[[488   6   3]\n",
      " [ 22  62   6]\n",
      " [  0   3  44]]\n"
     ]
    }
   ],
   "source": [
    "#Accuracy of the predicted values\n",
    "print(classification_report(y_test,y_pred_mlp))\n",
    "print(confusion_matrix(y_test,y_pred_mlp))"
   ]
  },
  {
   "cell_type": "code",
   "execution_count": 103,
   "metadata": {},
   "outputs": [],
   "source": [
    "cv_method = StratifiedKFold(n_splits=3, random_state=42, shuffle=True)"
   ]
  },
  {
   "cell_type": "code",
   "execution_count": 104,
   "metadata": {},
   "outputs": [
    {
     "name": "stdout",
     "output_type": "stream",
     "text": [
      "media =  0.9195478723404255\n",
      "desvio padrão =  0.004789278962654822\n"
     ]
    }
   ],
   "source": [
    "scores_mlp = cross_val_score(clf_mlp,x,y, cv = cv_method)\n",
    "print('media = ', scores_mlp.mean())\n",
    "print('desvio padrão = ', scores_mlp.std())"
   ]
  },
  {
   "cell_type": "markdown",
   "metadata": {},
   "source": [
    "# 5.6 - Resumo dos Classificadores"
   ]
  },
  {
   "cell_type": "code",
   "execution_count": 110,
   "metadata": {},
   "outputs": [
    {
     "data": {
      "text/html": [
       "<div>\n",
       "<style scoped>\n",
       "    .dataframe tbody tr th:only-of-type {\n",
       "        vertical-align: middle;\n",
       "    }\n",
       "\n",
       "    .dataframe tbody tr th {\n",
       "        vertical-align: top;\n",
       "    }\n",
       "\n",
       "    .dataframe thead th {\n",
       "        text-align: right;\n",
       "    }\n",
       "</style>\n",
       "<table border=\"1\" class=\"dataframe\">\n",
       "  <thead>\n",
       "    <tr style=\"text-align: right;\">\n",
       "      <th></th>\n",
       "      <th>Modelo</th>\n",
       "    </tr>\n",
       "    <tr>\n",
       "      <th>Score</th>\n",
       "      <th></th>\n",
       "    </tr>\n",
       "  </thead>\n",
       "  <tbody>\n",
       "    <tr>\n",
       "      <th>0.936909</th>\n",
       "      <td>MLP</td>\n",
       "    </tr>\n",
       "    <tr>\n",
       "      <th>0.930599</th>\n",
       "      <td>SVM</td>\n",
       "    </tr>\n",
       "    <tr>\n",
       "      <th>0.927445</th>\n",
       "      <td>Random Forest</td>\n",
       "    </tr>\n",
       "    <tr>\n",
       "      <th>0.914826</th>\n",
       "      <td>Logistic Regression</td>\n",
       "    </tr>\n",
       "    <tr>\n",
       "      <th>0.914826</th>\n",
       "      <td>KNN</td>\n",
       "    </tr>\n",
       "  </tbody>\n",
       "</table>\n",
       "</div>"
      ],
      "text/plain": [
       "                       Modelo\n",
       "Score                        \n",
       "0.936909                  MLP\n",
       "0.930599                  SVM\n",
       "0.927445        Random Forest\n",
       "0.914826  Logistic Regression\n",
       "0.914826                  KNN"
      ]
     },
     "execution_count": 110,
     "metadata": {},
     "output_type": "execute_result"
    }
   ],
   "source": [
    "results = pd.DataFrame({\n",
    "                        \"Modelo\": [\"Logistic Regression\", \"KNN\", \"SVM\", \"Random Forest\", \"MLP\"],\n",
    "                        \"Score\": [lr.score(x_test, y_test), neigh.score(x_test, y_test), clf_svm.score(x_test,y_test), rf.score(x_test, y_test),clf_mlp.score(x_test, y_test)]\n",
    "                        })\n",
    "result_df = results.sort_values(by=\"Score\", ascending=False)\n",
    "result_df = result_df.set_index(\"Score\")\n",
    "result_df.head(5)"
   ]
  },
  {
   "cell_type": "markdown",
   "metadata": {},
   "source": [
    "Diante o exposto em cada algoritmo, pode-se perceber que todos os algoritmos utilizados, conseguiram classificar as amostras com <b>pontuações</b> superiores a <b>91%</b>. Vale ressaltar que os modelos foram mais eficientes em classificar as classes 1 e 3. A classe 1 apresenta uma pontuação melhor, isso pode ser justificado devido a classe 1 ser a classe marjoritária. Apesar da classe 2 possuir mais amostras, a pontuação da classe 2 é menor que a classe 3."
   ]
  },
  {
   "cell_type": "markdown",
   "metadata": {},
   "source": [
    "A classe 2, apresentou desempenho abaixo das demais, pode-se verificar na pontuação de recall, foi bastante inferior as demais.  Isto é, porcentagem de exemplos positivos classificados como positivos, os falsos negativos (positivo real classificado errado) também são considerados."
   ]
  },
  {
   "cell_type": "markdown",
   "metadata": {},
   "source": [
    "Com isso, conforme os valores dos classificadores individuais, poderemos fazer alguns testes ultilizando comitês."
   ]
  },
  {
   "cell_type": "markdown",
   "metadata": {},
   "source": [
    "# 6 - Testes Comitês de classificadores"
   ]
  },
  {
   "cell_type": "markdown",
   "metadata": {},
   "source": [
    "Os métodos de conjuntos são definidos pelo treinamento de vários modelos combinados para resolver o mesmo problema. A aprendizagem de conjunto também é chamada de aprendizagem baseada em comitês. A capacidade de generalização de um comitê é muitas vezes melhor do que a de modelos individuais.\n",
    "\n",
    "Os comitês são classificados em dois tipos: Homogêneos e Heterogêneos. Os comitês homogêneos possuem como base um único tipo de algoritmo, tal como o Bagging. Enquanto os comitês heterogêneos são formados por diferentes tipos de algoritmos, que são distribuídos como classificadores base e classificador meta. Nessa categoria se destaca o Stacking.\n"
   ]
  },
  {
   "cell_type": "markdown",
   "metadata": {},
   "source": [
    "# 6.1 Classificador Homogêneo"
   ]
  },
  {
   "cell_type": "code",
   "execution_count": 73,
   "metadata": {},
   "outputs": [],
   "source": [
    "from sklearn.ensemble import BaggingClassifier\n",
    "from sklearn import model_selection"
   ]
  },
  {
   "cell_type": "code",
   "execution_count": 74,
   "metadata": {},
   "outputs": [],
   "source": [
    "bagging = BaggingClassifier (KNeighborsClassifier(), max_samples = 0.5, max_features = 0.5)"
   ]
  },
  {
   "cell_type": "code",
   "execution_count": 75,
   "metadata": {},
   "outputs": [],
   "source": [
    "kfold = model_selection.KFold(n_splits = 3, random_state=1, shuffle=True)"
   ]
  },
  {
   "cell_type": "code",
   "execution_count": 76,
   "metadata": {},
   "outputs": [],
   "source": [
    "classif = MLPClassifier(random_state=1, max_iter=3000, hidden_layer_sizes=(100,100,100))"
   ]
  },
  {
   "cell_type": "code",
   "execution_count": 77,
   "metadata": {},
   "outputs": [],
   "source": [
    "model = BaggingClassifier(base_estimator=classif, n_estimators = 3, random_state=0)"
   ]
  },
  {
   "cell_type": "code",
   "execution_count": 78,
   "metadata": {},
   "outputs": [
    {
     "name": "stdout",
     "output_type": "stream",
     "text": [
      "Wall time: 49.4 s\n"
     ]
    }
   ],
   "source": [
    "%%time\n",
    "result_mlp_bagging = model_selection.cross_val_score(model, x, y, cv=kfold)"
   ]
  },
  {
   "cell_type": "code",
   "execution_count": 79,
   "metadata": {},
   "outputs": [
    {
     "name": "stdout",
     "output_type": "stream",
     "text": [
      "0.9290142112615517\n"
     ]
    }
   ],
   "source": [
    "print(result_mlp_bagging.mean())"
   ]
  },
  {
   "cell_type": "code",
   "execution_count": 80,
   "metadata": {},
   "outputs": [
    {
     "name": "stdout",
     "output_type": "stream",
     "text": [
      "0.005003544205894213\n"
     ]
    }
   ],
   "source": [
    "print(result_mlp_bagging.std())"
   ]
  },
  {
   "cell_type": "markdown",
   "metadata": {},
   "source": [
    "# 6.2 Classificador Heterogêneo"
   ]
  },
  {
   "cell_type": "code",
   "execution_count": 81,
   "metadata": {},
   "outputs": [],
   "source": [
    "from sklearn.svm import SVC\n",
    "from sklearn.ensemble import StackingClassifier\n"
   ]
  },
  {
   "cell_type": "code",
   "execution_count": 111,
   "metadata": {},
   "outputs": [],
   "source": [
    "mlp = MLPClassifier(random_state=1, max_iter=3000, hidden_layer_sizes=(21,21,21))\n",
    "knn = KNeighborsClassifier(n_neighbors=3)\n",
    "svm = SVC(kernel='linear', C=1)\n",
    "lr = LogisticRegression(random_state=0)"
   ]
  },
  {
   "cell_type": "code",
   "execution_count": 112,
   "metadata": {},
   "outputs": [],
   "source": [
    "estimators1 = [('knn', KNeighborsClassifier(n_neighbors=3)), ('svm', (SVC(kernel='linear', C=1))), ('lr', LogisticRegression(random_state=0))]"
   ]
  },
  {
   "cell_type": "code",
   "execution_count": 113,
   "metadata": {},
   "outputs": [],
   "source": [
    "estimators2 = [('mlp', MLPClassifier(random_state=1, max_iter=3000, hidden_layer_sizes=(21,21,21))), ('svm', (SVC(kernel='linear', C=1))), ('lr', LogisticRegression(random_state=0))]"
   ]
  },
  {
   "cell_type": "code",
   "execution_count": 114,
   "metadata": {},
   "outputs": [],
   "source": [
    "estimators3 = [('knn', KNeighborsClassifier(n_neighbors=3)), ('mlp', MLPClassifier(random_state=1, max_iter=3000, hidden_layer_sizes=(21,21,21))), ('lr', LogisticRegression(random_state=0))]"
   ]
  },
  {
   "cell_type": "code",
   "execution_count": 115,
   "metadata": {},
   "outputs": [],
   "source": [
    "estimators4 = [('knn', KNeighborsClassifier(n_neighbors=3)), ('mlp', MLPClassifier(random_state=1, max_iter=3000, hidden_layer_sizes=(21,21,21))), ('svm', (SVC(kernel='linear', C=1)))]"
   ]
  },
  {
   "cell_type": "code",
   "execution_count": 116,
   "metadata": {},
   "outputs": [],
   "source": [
    "clf1 = StackingClassifier(estimators=estimators1, final_estimator=mlp)"
   ]
  },
  {
   "cell_type": "code",
   "execution_count": 117,
   "metadata": {},
   "outputs": [],
   "source": [
    "clf2 = StackingClassifier(estimators=estimators2, final_estimator=knn)"
   ]
  },
  {
   "cell_type": "code",
   "execution_count": 118,
   "metadata": {},
   "outputs": [],
   "source": [
    "clf3 = StackingClassifier(estimators=estimators3, final_estimator=svm)"
   ]
  },
  {
   "cell_type": "code",
   "execution_count": 119,
   "metadata": {},
   "outputs": [],
   "source": [
    "clf4 = StackingClassifier(estimators=estimators4, final_estimator=lr)"
   ]
  },
  {
   "cell_type": "code",
   "execution_count": 120,
   "metadata": {},
   "outputs": [
    {
     "name": "stdout",
     "output_type": "stream",
     "text": [
      "Wall time: 5.39 s\n"
     ]
    },
    {
     "data": {
      "text/plain": [
       "0.9227129337539433"
      ]
     },
     "execution_count": 120,
     "metadata": {},
     "output_type": "execute_result"
    }
   ],
   "source": [
    "%%time\n",
    "clf1.fit(x_train, y_train).score(x_test, y_test)"
   ]
  },
  {
   "cell_type": "code",
   "execution_count": 121,
   "metadata": {},
   "outputs": [
    {
     "name": "stdout",
     "output_type": "stream",
     "text": [
      "Wall time: 35.8 s\n"
     ]
    },
    {
     "data": {
      "text/plain": [
       "0.9321766561514195"
      ]
     },
     "execution_count": 121,
     "metadata": {},
     "output_type": "execute_result"
    }
   ],
   "source": [
    "%%time\n",
    "clf2.fit(x_train, y_train).score(x_test, y_test)"
   ]
  },
  {
   "cell_type": "code",
   "execution_count": 122,
   "metadata": {},
   "outputs": [
    {
     "name": "stdout",
     "output_type": "stream",
     "text": [
      "Wall time: 36.5 s\n"
     ]
    },
    {
     "data": {
      "text/plain": [
       "0.9400630914826499"
      ]
     },
     "execution_count": 122,
     "metadata": {},
     "output_type": "execute_result"
    }
   ],
   "source": [
    "%%time\n",
    "clf3.fit(x_train, y_train).score(x_test, y_test)"
   ]
  },
  {
   "cell_type": "code",
   "execution_count": 123,
   "metadata": {},
   "outputs": [
    {
     "name": "stdout",
     "output_type": "stream",
     "text": [
      "Wall time: 35.9 s\n"
     ]
    },
    {
     "data": {
      "text/plain": [
       "0.944794952681388"
      ]
     },
     "execution_count": 123,
     "metadata": {},
     "output_type": "execute_result"
    }
   ],
   "source": [
    "%%time\n",
    "clf4.fit(x_train, y_train).score(x_test, y_test)"
   ]
  },
  {
   "cell_type": "markdown",
   "metadata": {},
   "source": [
    "# Conclusões"
   ]
  },
  {
   "cell_type": "markdown",
   "metadata": {},
   "source": [
    "Diante aos valores identificados após a aplicação dos algoritmos de classificação. Pôde-se perceber que os algoritmos quando aplicados de forma indiviual, de certa forma apresentaram pontuações bem elevadas. Com destaque o MLP com a maior pontuação dentre os algoritmos aplicados.\n",
    "\n",
    "O uso de comitês heterogêneos apresentou resultados satisfatórios também. Com valores superiores aos individuais. Destaca-se o comitê heterogêneo 3 e 4 com pountuações superiores a 94,47%\n",
    "\n",
    "Com isso, pode-se definir como o melhor método de classificação o uso de MLP para o modelo individual e o comitê 4 que utilizou como classificadores bases: KNN+MLP+SVM e meta classificador LR.\n",
    "\n",
    "Como limitadores, fica destacado o desbalanceamento das classes, apesar da classe afetada ser o a 2, que é classificado como suspeito, as demais classes que tem um diangóstico mais preciso (normal e pathological) se comportaram de maneira eficiente diante aos algoritmos utilizados.\n",
    "\n",
    "Conforme evidênciado, o uso de aprendizado de máquina para o problema definido é essencialmente eficaz, e deve ser explorado, aumentando o número de amostras e ajustando os parâmetros de cada algoritmo conforme necessário."
   ]
  },
  {
   "cell_type": "markdown",
   "metadata": {},
   "source": [
    "Finaliza-se aqui, o desenvolvimento do projeto para a seleção do LAIS/046-2020"
   ]
  },
  {
   "cell_type": "code",
   "execution_count": null,
   "metadata": {},
   "outputs": [],
   "source": []
  }
 ],
 "metadata": {
  "kernelspec": {
   "display_name": "Python 3",
   "language": "python",
   "name": "python3"
  },
  "language_info": {
   "codemirror_mode": {
    "name": "ipython",
    "version": 3
   },
   "file_extension": ".py",
   "mimetype": "text/x-python",
   "name": "python",
   "nbconvert_exporter": "python",
   "pygments_lexer": "ipython3",
   "version": "3.8.3"
  }
 },
 "nbformat": 4,
 "nbformat_minor": 4
}
